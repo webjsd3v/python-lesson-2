{
 "cells": [
  {
   "cell_type": "code",
   "execution_count": 1,
   "id": "a97661f9-506b-432b-a019-00dc8b15847a",
   "metadata": {},
   "outputs": [
    {
     "name": "stdout",
     "output_type": "stream",
     "text": [
      "Результат: {98, 35, 15, 213, 54, 119}\n"
     ]
    }
   ],
   "source": [
    "def unique_geo_marks(ids):\n",
    "    all_geo_marks = set()\n",
    "\n",
    "    for user_marks in ids.values():\n",
    "        all_geo_marks.update(user_marks)\n",
    "\n",
    "    return all_geo_marks\n",
    "\n",
    "ids = {'user1': [213, 213, 213, 15, 213], \n",
    "       'user2': [54, 54, 119, 119, 119], \n",
    "       'user3': [213, 98, 98, 35]}\n",
    "\n",
    "result = unique_geo_marks(ids)\n",
    "print(f\"Результат: {result}\")"
   ]
  },
  {
   "cell_type": "code",
   "execution_count": null,
   "id": "0e84a1ae-74f6-47fc-b483-0e0b0104614c",
   "metadata": {},
   "outputs": [],
   "source": []
  }
 ],
 "metadata": {
  "kernelspec": {
   "display_name": "Python 3 (ipykernel)",
   "language": "python",
   "name": "python3"
  },
  "language_info": {
   "codemirror_mode": {
    "name": "ipython",
    "version": 3
   },
   "file_extension": ".py",
   "mimetype": "text/x-python",
   "name": "python",
   "nbconvert_exporter": "python",
   "pygments_lexer": "ipython3",
   "version": "3.11.6"
  }
 },
 "nbformat": 4,
 "nbformat_minor": 5
}
